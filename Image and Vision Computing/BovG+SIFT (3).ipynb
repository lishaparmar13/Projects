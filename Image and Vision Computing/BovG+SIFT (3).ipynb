{
 "cells": [
  {
   "cell_type": "code",
   "execution_count": 1,
   "id": "f4d39e63",
   "metadata": {},
   "outputs": [],
   "source": [
    "import cv2\n",
    "import numpy as np\n",
    "import os\n",
    "\n",
    "\n",
    "# Get the training classes names and store them in a list\n",
    "#Here we use folder names for class names\n",
    "\n",
    "#train_path = 'dataset/train'  # Names are Aeroplane, Bicycle, Car\n",
    "train_path = r'C:\\MLAI\\Coursework\\IVC\\Coursework\\marvel\\train'  # Folder Names are Parasitized and Uninfected\n",
    "training_names = os.listdir(train_path)\n",
    "\n",
    "\n",
    "# Get path to all images and save them in a list\n",
    "# image_paths and the corresponding label in image_paths\n",
    "image_paths = []\n",
    "image_classes = []\n",
    "class_id = 0\n",
    "\n",
    "#To make it easy to list all file names in a directory let us define a function\n",
    "#\n",
    "def imglist(path):    \n",
    "    return [os.path.join(path, f) for f in os.listdir(path)]\n",
    "\n",
    "#Fill the placeholder empty lists with image path, classes, and add class ID number\n",
    "#\n",
    "    \n",
    "for training_name in training_names:\n",
    "    dir = os.path.join(train_path, training_name)\n",
    "    if '.DS_Store' not in dir:\n",
    "        class_path = imglist(dir)\n",
    "        image_paths+=class_path\n",
    "        image_classes+=[class_id]*len(class_path)\n",
    "        class_id+=1\n",
    "\n",
    "# Create feature extraction and keypoint detector objects\n",
    "    #SIFT is not available anymore in openCV    \n",
    "# Create List where all the descriptors will be stored\n",
    "des_list = []\n",
    "\n",
    "#BRISK is a good replacement to SIFT. ORB also works but didn;t work well for this example\n",
    "brisk = cv2.SIFT_create()\n",
    "\n"
   ]
  },
  {
   "cell_type": "code",
   "execution_count": 36,
   "id": "dbdbc94a",
   "metadata": {},
   "outputs": [],
   "source": [
    "for image_path in image_paths:\n",
    "    im = cv2.imread(image_path)\n",
    "    im = cv2.resize(im, (128, 128)) \n",
    "    kpts, des = brisk.detectAndCompute(im, None)\n",
    "    des_list.append((image_path, des))   "
   ]
  },
  {
   "cell_type": "code",
   "execution_count": 37,
   "id": "9633109c",
   "metadata": {},
   "outputs": [],
   "source": [
    "# Stack all the descriptors vertically in a numpy array\n",
    "descriptors = des_list[0][1]\n",
    "for image_path, descriptor in des_list[1:]:\n",
    "    descriptors = np.vstack((descriptors, descriptor))  \n",
    "\n",
    "#kmeans works only on float, so convert integers to float"
   ]
  },
  {
   "cell_type": "code",
   "execution_count": 38,
   "id": "1d66a5c9",
   "metadata": {},
   "outputs": [],
   "source": [
    "descriptors_float = descriptors.astype(float)  \n",
    "\n",
    "# Perform k-means clustering and vector quantization\n",
    "from scipy.cluster.vq import kmeans, vq\n",
    "\n",
    "k = 200  #k means with 100 clusters gives lower accuracy for the aeroplane example\n",
    "voc, variance = kmeans(descriptors_float, k, 1) "
   ]
  },
  {
   "cell_type": "code",
   "execution_count": 42,
   "id": "eb1c1ab1",
   "metadata": {},
   "outputs": [],
   "source": [
    "# Calculate the histogram of features and represent them as vector\n",
    "#vq Assigns codes from a code book to observations.\n",
    "im_features = np.zeros((len(image_paths), k), \"float32\")\n",
    "for i in range(len(image_paths)):\n",
    "    words, distance = vq(des_list[i][1],voc)\n",
    "    for w in words:\n",
    "        im_features[i][w] += 1"
   ]
  },
  {
   "cell_type": "code",
   "execution_count": 44,
   "id": "faae5e3a",
   "metadata": {},
   "outputs": [],
   "source": [
    "# Perform Tf-Idf vectorization\n",
    "nbr_occurences = np.sum( (im_features > 0) * 1, axis = 0)\n",
    "idf = np.array(np.log((1.0*len(image_paths)+1) / (1.0*nbr_occurences + 1)), 'float32')"
   ]
  },
  {
   "cell_type": "code",
   "execution_count": 45,
   "id": "dca94462",
   "metadata": {},
   "outputs": [],
   "source": [
    "# Scaling the words\n",
    "#Standardize features by removing the mean and scaling to unit variance\n",
    "#In a way normalization\n",
    "from sklearn.preprocessing import StandardScaler\n",
    "stdSlr = StandardScaler().fit(im_features)\n",
    "im_features = stdSlr.transform(im_features)"
   ]
  },
  {
   "cell_type": "code",
   "execution_count": 46,
   "id": "c95a002f",
   "metadata": {},
   "outputs": [
    {
     "name": "stderr",
     "output_type": "stream",
     "text": [
      "c:\\MLAI\\lib\\site-packages\\sklearn\\svm\\_base.py:1206: ConvergenceWarning: Liblinear failed to converge, increase the number of iterations.\n",
      "  warnings.warn(\n"
     ]
    },
    {
     "data": {
      "text/plain": [
       "LinearSVC(max_iter=10000)"
      ]
     },
     "execution_count": 46,
     "metadata": {},
     "output_type": "execute_result"
    }
   ],
   "source": [
    "#Train an algorithm to discriminate vectors corresponding to positive and negative training images\n",
    "# Train the Linear SVM\n",
    "from sklearn.svm import LinearSVC\n",
    "clf = LinearSVC(max_iter=10000)  #Default of 100 is not converging\n",
    "clf.fit(im_features, np.array(image_classes))\n",
    "\n",
    "#Train Random forest to compare how it does against SVM\n",
    "#from sklearn.ensemble import RandomForestClassifier\n",
    "#clf = RandomForestClassifier(n_estimators = 100, random_state=30)\n",
    "#clf.fit(im_features, np.array(image_classes))"
   ]
  },
  {
   "cell_type": "code",
   "execution_count": 47,
   "id": "220d5938",
   "metadata": {},
   "outputs": [
    {
     "data": {
      "text/plain": [
       "<function list.remove(value, /)>"
      ]
     },
     "execution_count": 47,
     "metadata": {},
     "output_type": "execute_result"
    }
   ],
   "source": [
    "import joblib\n",
    "training_names.remove"
   ]
  },
  {
   "cell_type": "code",
   "execution_count": 48,
   "id": "87c21672",
   "metadata": {},
   "outputs": [
    {
     "data": {
      "text/plain": [
       "['bovw.pkl']"
      ]
     },
     "execution_count": 48,
     "metadata": {},
     "output_type": "execute_result"
    }
   ],
   "source": [
    "# Save the SVM\n",
    "#Joblib dumps Python object into one file\n",
    "# from sklearn.externals import joblib\n",
    "joblib.dump((clf, training_names, stdSlr, k, voc), \"bovw.pkl\", compress=3) "
   ]
  },
  {
   "cell_type": "markdown",
   "id": "af18d463",
   "metadata": {},
   "source": [
    "## Testing"
   ]
  },
  {
   "cell_type": "code",
   "execution_count": 2,
   "id": "765b575d",
   "metadata": {},
   "outputs": [],
   "source": [
    "import cv2\n",
    "import numpy as np\n",
    "import os\n",
    "import pylab as pl\n",
    "from sklearn.metrics import confusion_matrix, accuracy_score #sreeni\n",
    "import joblib\n",
    "import os.path\n",
    "import cv2\n",
    "import numpy as np\n",
    "import pandas as pd\n",
    "from pathlib import Path\n",
    "import random\n",
    "import matplotlib.pyplot as plt\n",
    "from sklearn import preprocessing\n",
    "from sklearn.metrics import f1_score\n",
    "import pickle"
   ]
  },
  {
   "cell_type": "code",
   "execution_count": 3,
   "id": "c93b7cf6",
   "metadata": {},
   "outputs": [],
   "source": [
    "# Load the classifier, class names, scaler, number of clusters and vocabulary \n",
    "#from stored pickle file (generated during training)\n",
    "clf, classes_names, stdSlr, k, voc = joblib.load(\"bovw.pkl\")"
   ]
  },
  {
   "cell_type": "code",
   "execution_count": 4,
   "id": "df6f4219",
   "metadata": {},
   "outputs": [],
   "source": [
    "def onehot(label):\n",
    "\n",
    "    le = preprocessing.LabelEncoder()\n",
    "    labels_classes = le.fit_transform(label)\n",
    "    labels_classes = pd.Series(labels_classes, name='Label')\n",
    "    return labels_classes"
   ]
  },
  {
   "cell_type": "code",
   "execution_count": 5,
   "id": "0d294839",
   "metadata": {},
   "outputs": [],
   "source": [
    "# Dataset location\n",
    "image_dir = Path('C:\\MLAI\\Coursework\\IVC\\Coursework\\marvel')\n",
    "\n",
    "\n",
    "# Storing path and label values\n",
    "filepaths = list(image_dir.glob(r'valid\\**\\*.jpg'))\n",
    "labels = list(map(lambda x: os.path.split(os.path.split(x)[0])[1], filepaths))\n",
    "\n",
    "\n",
    "# Creating dataframe object\n",
    "filepaths = pd.Series(filepaths, name='Filepath').astype(str)\n",
    "labels = onehot(labels)\n",
    "image_df = pd.concat([filepaths, labels], axis=1)"
   ]
  },
  {
   "cell_type": "code",
   "execution_count": 6,
   "id": "6ecc0230",
   "metadata": {},
   "outputs": [],
   "source": [
    "path1 = r'C:\\MLAI\\Coursework\\IVC\\Coursework\\marvel\\marvel\\valid\\valid'"
   ]
  },
  {
   "cell_type": "code",
   "execution_count": 13,
   "id": "5278f171",
   "metadata": {},
   "outputs": [],
   "source": [
    "import skimage"
   ]
  },
  {
   "cell_type": "code",
   "execution_count": 18,
   "id": "4e576e58",
   "metadata": {},
   "outputs": [],
   "source": [
    "def saltandpepper(input_img,sd):\n",
    "\n",
    "    fact = [0.08,0.10,0.12,0.14,0.16,0.18]\n",
    "\n",
    "    return skimage.util.random_noise(input_img, mode='s&p', seed=None, clip=True,amount = fact[sd])"
   ]
  },
  {
   "cell_type": "code",
   "execution_count": 19,
   "id": "00066f50",
   "metadata": {},
   "outputs": [],
   "source": [
    "saltandpepper_f1 = {}"
   ]
  },
  {
   "cell_type": "code",
   "execution_count": null,
   "id": "d79ebcd7",
   "metadata": {},
   "outputs": [],
   "source": [
    "for per_value in range(0,10,1):\n",
    "\n",
    "    for img_idx in range(len(image_df)):\n",
    "\n",
    "        input_img1 = cv2.imread(image_df['Filepath'][img_idx],0)\n",
    "        input_img1 = saltandpepper(input_img1,per_value)\n",
    "        dir = os.path.split(image_df['Filepath'][img_idx])[0].split('\\\\')[-1]\n",
    "        \n",
    "        cv2.imwrite(path1+'\\\\'+dir+'\\\\'+os.path.split(image_df['Filepath'][img_idx])[1],input_img1)\n",
    "\n",
    "    test_path = r'C:\\MLAI\\Coursework\\IVC\\Coursework\\marvel\\marvel\\valid\\valid'  # Folder Names are Parasitized and Uninfected\n",
    "    #instead of test if you use train then we get great accuracy\n",
    "\n",
    "    testing_names = os.listdir(test_path)\n",
    "\n",
    "    # Get path to all images and save them in a list\n",
    "    # image_paths and the corresponding label in image_paths\n",
    "    image_paths = []\n",
    "    image_classes = []\n",
    "    class_id = 0\n",
    "\n",
    "    def imglist(path):\n",
    "        return [os.path.join(path, f) for f in os.listdir(path)]\n",
    "\n",
    "    #Fill the placeholder empty lists with image path, classes, and add class ID number\n",
    "\n",
    "    for testing_name in testing_names:\n",
    "        dir = os.path.join(test_path, testing_name)\n",
    "        if '.DS_Store' not in dir:\n",
    "            class_path = imglist(dir)\n",
    "            image_paths+=class_path\n",
    "            image_classes+=[class_id]*len(class_path)\n",
    "            class_id+=1\n",
    "\n",
    "    des_list = []\n",
    "\n",
    "    for image_path in image_paths:\n",
    "        im = cv2.imread(image_path)\n",
    "        kpts, des = brisk.detectAndCompute(im, None)\n",
    "        des_list.append((image_path, des))  \n",
    "\n",
    "    descriptors = des_list[0][1]\n",
    "    for image_path, descriptor in des_list[0:]:\n",
    "        descriptors = np.vstack((descriptors, descriptor)) \n",
    "\n",
    "    from scipy.cluster.vq import vq    \n",
    "    test_features = np.zeros((len(image_paths), 200), \"float32\")\n",
    "    for i in range(len(image_paths)):\n",
    "        words, distance = vq(des_list[i][1],voc)\n",
    "        for w in words:\n",
    "            test_features[i][w] += 1\n",
    "\n",
    "    # Perform Tf-Idf vectorization\n",
    "    nbr_occurences = np.sum( (test_features > 0) * 1, axis = 0)\n",
    "    idf = np.array(np.log((1.0*len(image_paths)+1) / (1.0*nbr_occurences + 1)), 'float32')\n",
    "\n",
    "    test_features = stdSlr.transform(test_features)\n",
    "\n",
    "\n",
    "    true_class = []\n",
    "    predictions=[]\n",
    " \n",
    "\n",
    "    true_class =  [classes_names[i] for i in image_classes]\n",
    "\n",
    "    predictions =  [classes_names[i] for i in clf.predict(test_features)]\n",
    "\n",
    "    \n",
    "    saltandpepper_f1[str(per_value)] = f1_score(true_class,predictions,average=None)"
   ]
  },
  {
   "cell_type": "code",
   "execution_count": null,
   "id": "ae7b64d2",
   "metadata": {},
   "outputs": [
    {
     "data": {
      "text/plain": [
       "{'0': array([0.15625   , 0.18055556, 0.05      , 0.27272727, 0.31693989,\n",
       "        0.125     , 0.29473684, 0.14634146]),\n",
       " '1': array([0.140625  , 0.17808219, 0.05      , 0.25688073, 0.32402235,\n",
       "        0.125     , 0.3125    , 0.16666667]),\n",
       " '2': array([0.15503876, 0.19178082, 0.07407407, 0.25454545, 0.31693989,\n",
       "        0.12987013, 0.31914894, 0.17073171]),\n",
       " '3': array([0.15503876, 0.18055556, 0.05128205, 0.25454545, 0.32432432,\n",
       "        0.12658228, 0.3125    , 0.14814815]),\n",
       " '4': array([0.12698413, 0.16551724, 0.04938272, 0.26785714, 0.32044199,\n",
       "        0.12820513, 0.30107527, 0.13953488]),\n",
       " '5': array([0.13953488, 0.19047619, 0.04938272, 0.25688073, 0.31638418,\n",
       "        0.125     , 0.33333333, 0.1686747 ]),\n",
       " '6': array([0.140625  , 0.20689655, 0.07228916, 0.2962963 , 0.32967033,\n",
       "        0.12345679, 0.30107527, 0.12195122]),\n",
       " '7': array([0.128     , 0.16326531, 0.05      , 0.27522936, 0.29189189,\n",
       "        0.12820513, 0.32653061, 0.175     ]),\n",
       " '8': array([0.15625   , 0.18705036, 0.06818182, 0.22857143, 0.32608696,\n",
       "        0.125     , 0.30927835, 0.17283951]),\n",
       " '9': array([0.12903226, 0.19444444, 0.06976744, 0.24074074, 0.32044199,\n",
       "        0.12345679, 0.31578947, 0.14457831])}"
      ]
     },
     "execution_count": 11,
     "metadata": {},
     "output_type": "execute_result"
    }
   ],
   "source": [
    "saltandpepper_f1"
   ]
  },
  {
   "cell_type": "code",
   "execution_count": null,
   "id": "d08c23d6",
   "metadata": {},
   "outputs": [],
   "source": [
    "with open(r'svm_f1\\saltandpepper_f1.pkl', 'wb') as f:\n",
    "    pickle.dump(saltandpepper_f1, f)"
   ]
  },
  {
   "cell_type": "code",
   "execution_count": 72,
   "id": "f78b77ed",
   "metadata": {},
   "outputs": [],
   "source": [
    "for k in range(len(image_df)):\n",
    "\n",
    "        input_img1 = cv2.imread(image_df['Filepath'][k],0)\n",
    "        input_img1 = gaussian_noise(input_img1,0)\n",
    "        dir = os.path.split(image_df['Filepath'][k])[0].split('\\\\')[-1]\n",
    "        \n",
    "        cv2.imwrite(path1+'\\\\'+dir+'\\\\'+os.path.split(image_df['Filepath'][k])[1],input_img1)"
   ]
  },
  {
   "cell_type": "code",
   "execution_count": 73,
   "id": "69468385",
   "metadata": {},
   "outputs": [],
   "source": [
    "\n",
    "test_path = r'C:\\MLAI\\Coursework\\IVC\\Coursework\\marvel\\marvel\\valid\\valid' \n",
    "\n",
    "\n",
    "testing_names = os.listdir(test_path)\n",
    "\n",
    "image_paths = []\n",
    "image_classes = []\n",
    "class_id = 0\n"
   ]
  },
  {
   "cell_type": "code",
   "execution_count": 74,
   "id": "8764947e",
   "metadata": {},
   "outputs": [],
   "source": [
    "def imglist(path):\n",
    "    return [os.path.join(path, f) for f in os.listdir(path)]\n",
    "\n",
    "\n",
    "for testing_name in testing_names:\n",
    "    dir = os.path.join(test_path, testing_name)\n",
    "    if '.DS_Store' not in dir:\n",
    "        class_path = imglist(dir)\n",
    "        image_paths+=class_path\n",
    "        image_classes+=[class_id]*len(class_path)\n",
    "        class_id+=1\n"
   ]
  },
  {
   "cell_type": "code",
   "execution_count": 75,
   "id": "16797ed4",
   "metadata": {},
   "outputs": [],
   "source": [
    "brisk = cv2.SIFT_create()"
   ]
  },
  {
   "cell_type": "code",
   "execution_count": 76,
   "id": "f95e7b1d",
   "metadata": {},
   "outputs": [],
   "source": [
    "des_list = []\n",
    "\n",
    "for image_path in image_paths:\n",
    "    im = cv2.imread(image_path)\n",
    "    kpts, des = brisk.detectAndCompute(im, None)\n",
    "    des_list.append((image_path, des))   \n",
    "    \n",
    "# Stack all the descriptors vertically in a numpy array\n",
    "# print(des_list)"
   ]
  },
  {
   "cell_type": "code",
   "execution_count": 77,
   "id": "83350314",
   "metadata": {},
   "outputs": [],
   "source": [
    "descriptors = des_list[0][1]\n",
    "for image_path, descriptor in des_list[0:]:\n",
    "    descriptors = np.vstack((descriptors, descriptor)) \n",
    "\n",
    "# Calculate the histogram of features\n",
    "#vq Assigns codes from a code book to observations"
   ]
  },
  {
   "cell_type": "code",
   "execution_count": 81,
   "id": "6f76b05d",
   "metadata": {},
   "outputs": [],
   "source": [
    "from scipy.cluster.vq import vq    \n",
    "test_features = np.zeros((len(image_paths), 200), \"float32\")\n",
    "for i in range(len(image_paths)):\n",
    "    words, distance = vq(des_list[i][1],voc)\n",
    "    for w in words:\n",
    "        test_features[i][w] += 1"
   ]
  },
  {
   "cell_type": "code",
   "execution_count": 82,
   "id": "347e0d4d",
   "metadata": {},
   "outputs": [
    {
     "data": {
      "text/plain": [
       "450"
      ]
     },
     "execution_count": 82,
     "metadata": {},
     "output_type": "execute_result"
    }
   ],
   "source": [
    "k"
   ]
  },
  {
   "cell_type": "code",
   "execution_count": 83,
   "id": "2f2e0cdd",
   "metadata": {
    "scrolled": false
   },
   "outputs": [
    {
     "name": "stdout",
     "output_type": "stream",
     "text": [
      "true_class =['black widow', 'black widow', 'black widow', 'black widow', 'black widow', 'black widow', 'black widow', 'black widow', 'black widow', 'black widow', 'black widow', 'black widow', 'black widow', 'black widow', 'black widow', 'black widow', 'black widow', 'black widow', 'black widow', 'black widow', 'black widow', 'black widow', 'black widow', 'black widow', 'black widow', 'black widow', 'black widow', 'black widow', 'black widow', 'black widow', 'black widow', 'black widow', 'black widow', 'black widow', 'black widow', 'black widow', 'black widow', 'black widow', 'black widow', 'black widow', 'black widow', 'black widow', 'black widow', 'black widow', 'black widow', 'black widow', 'black widow', 'black widow', 'black widow', 'black widow', 'black widow', 'black widow', 'black widow', 'black widow', 'black widow', 'captain america', 'captain america', 'captain america', 'captain america', 'captain america', 'captain america', 'captain america', 'captain america', 'captain america', 'captain america', 'captain america', 'captain america', 'captain america', 'captain america', 'captain america', 'captain america', 'captain america', 'captain america', 'captain america', 'captain america', 'captain america', 'captain america', 'captain america', 'captain america', 'captain america', 'captain america', 'captain america', 'captain america', 'captain america', 'captain america', 'captain america', 'captain america', 'captain america', 'captain america', 'captain america', 'captain america', 'captain america', 'captain america', 'captain america', 'captain america', 'captain america', 'captain america', 'captain america', 'captain america', 'captain america', 'captain america', 'captain america', 'captain america', 'captain america', 'captain america', 'captain america', 'captain america', 'captain america', 'captain america', 'captain america', 'captain america', 'captain america', 'doctor strange', 'doctor strange', 'doctor strange', 'doctor strange', 'doctor strange', 'doctor strange', 'doctor strange', 'doctor strange', 'doctor strange', 'doctor strange', 'doctor strange', 'doctor strange', 'doctor strange', 'doctor strange', 'doctor strange', 'doctor strange', 'doctor strange', 'doctor strange', 'doctor strange', 'doctor strange', 'doctor strange', 'doctor strange', 'doctor strange', 'doctor strange', 'doctor strange', 'doctor strange', 'doctor strange', 'doctor strange', 'doctor strange', 'doctor strange', 'doctor strange', 'doctor strange', 'doctor strange', 'doctor strange', 'doctor strange', 'doctor strange', 'doctor strange', 'doctor strange', 'doctor strange', 'doctor strange', 'doctor strange', 'doctor strange', 'doctor strange', 'doctor strange', 'doctor strange', 'doctor strange', 'doctor strange', 'doctor strange', 'doctor strange', 'doctor strange', 'doctor strange', 'doctor strange', 'doctor strange', 'doctor strange', 'doctor strange', 'doctor strange', 'doctor strange', 'doctor strange', 'doctor strange', 'doctor strange', 'doctor strange', 'hulk', 'hulk', 'hulk', 'hulk', 'hulk', 'hulk', 'hulk', 'hulk', 'hulk', 'hulk', 'hulk', 'hulk', 'hulk', 'hulk', 'hulk', 'hulk', 'hulk', 'hulk', 'hulk', 'hulk', 'hulk', 'hulk', 'hulk', 'hulk', 'hulk', 'hulk', 'hulk', 'hulk', 'hulk', 'hulk', 'hulk', 'hulk', 'hulk', 'hulk', 'hulk', 'hulk', 'hulk', 'hulk', 'hulk', 'hulk', 'hulk', 'hulk', 'hulk', 'hulk', 'hulk', 'hulk', 'hulk', 'hulk', 'hulk', 'hulk', 'hulk', 'hulk', 'hulk', 'hulk', 'hulk', 'hulk', 'ironman', 'ironman', 'ironman', 'ironman', 'ironman', 'ironman', 'ironman', 'ironman', 'ironman', 'ironman', 'ironman', 'ironman', 'ironman', 'ironman', 'ironman', 'ironman', 'ironman', 'ironman', 'ironman', 'ironman', 'ironman', 'ironman', 'ironman', 'ironman', 'ironman', 'ironman', 'ironman', 'ironman', 'ironman', 'ironman', 'ironman', 'ironman', 'ironman', 'ironman', 'ironman', 'ironman', 'ironman', 'ironman', 'ironman', 'ironman', 'ironman', 'ironman', 'ironman', 'ironman', 'ironman', 'ironman', 'ironman', 'ironman', 'ironman', 'ironman', 'ironman', 'ironman', 'ironman', 'ironman', 'ironman', 'ironman', 'loki', 'loki', 'loki', 'loki', 'loki', 'loki', 'loki', 'loki', 'loki', 'loki', 'loki', 'loki', 'loki', 'loki', 'loki', 'loki', 'loki', 'loki', 'loki', 'loki', 'loki', 'loki', 'loki', 'loki', 'loki', 'loki', 'loki', 'loki', 'loki', 'loki', 'loki', 'loki', 'loki', 'loki', 'loki', 'loki', 'loki', 'loki', 'loki', 'loki', 'loki', 'loki', 'loki', 'loki', 'loki', 'loki', 'loki', 'loki', 'loki', 'loki', 'loki', 'loki', 'loki', 'loki', 'spider-man', 'spider-man', 'spider-man', 'spider-man', 'spider-man', 'spider-man', 'spider-man', 'spider-man', 'spider-man', 'spider-man', 'spider-man', 'spider-man', 'spider-man', 'spider-man', 'spider-man', 'spider-man', 'spider-man', 'spider-man', 'spider-man', 'spider-man', 'spider-man', 'spider-man', 'spider-man', 'spider-man', 'spider-man', 'spider-man', 'spider-man', 'spider-man', 'spider-man', 'spider-man', 'spider-man', 'spider-man', 'spider-man', 'spider-man', 'spider-man', 'spider-man', 'spider-man', 'spider-man', 'spider-man', 'spider-man', 'spider-man', 'spider-man', 'spider-man', 'spider-man', 'spider-man', 'spider-man', 'spider-man', 'spider-man', 'spider-man', 'spider-man', 'spider-man', 'spider-man', 'spider-man', 'spider-man', 'spider-man', 'spider-man', 'spider-man', 'thanos', 'thanos', 'thanos', 'thanos', 'thanos', 'thanos', 'thanos', 'thanos', 'thanos', 'thanos', 'thanos', 'thanos', 'thanos', 'thanos', 'thanos', 'thanos', 'thanos', 'thanos', 'thanos', 'thanos', 'thanos', 'thanos', 'thanos', 'thanos', 'thanos', 'thanos', 'thanos', 'thanos', 'thanos', 'thanos', 'thanos', 'thanos', 'thanos', 'thanos', 'thanos', 'thanos', 'thanos', 'thanos', 'thanos', 'thanos', 'thanos', 'thanos', 'thanos', 'thanos', 'thanos', 'thanos', 'thanos', 'thanos', 'thanos', 'thanos', 'thanos', 'thanos', 'thanos', 'thanos', 'thanos']\n",
      "prediction =['ironman', 'hulk', 'ironman', 'captain america', 'hulk', 'ironman', 'thanos', 'captain america', 'captain america', 'doctor strange', 'ironman', 'ironman', 'captain america', 'hulk', 'spider-man', 'doctor strange', 'ironman', 'captain america', 'black widow', 'hulk', 'ironman', 'ironman', 'black widow', 'ironman', 'ironman', 'ironman', 'hulk', 'black widow', 'black widow', 'black widow', 'ironman', 'ironman', 'spider-man', 'spider-man', 'black widow', 'ironman', 'doctor strange', 'black widow', 'black widow', 'captain america', 'captain america', 'loki', 'black widow', 'ironman', 'ironman', 'loki', 'spider-man', 'captain america', 'ironman', 'captain america', 'loki', 'ironman', 'spider-man', 'captain america', 'black widow', 'captain america', 'spider-man', 'black widow', 'ironman', 'hulk', 'black widow', 'thanos', 'ironman', 'spider-man', 'captain america', 'ironman', 'ironman', 'hulk', 'captain america', 'loki', 'black widow', 'ironman', 'ironman', 'captain america', 'ironman', 'loki', 'thanos', 'ironman', 'black widow', 'captain america', 'captain america', 'spider-man', 'ironman', 'ironman', 'captain america', 'black widow', 'black widow', 'ironman', 'hulk', 'hulk', 'hulk', 'captain america', 'black widow', 'ironman', 'ironman', 'ironman', 'captain america', 'black widow', 'captain america', 'hulk', 'captain america', 'doctor strange', 'captain america', 'black widow', 'loki', 'hulk', 'ironman', 'captain america', 'ironman', 'ironman', 'hulk', 'ironman', 'ironman', 'captain america', 'loki', 'thanos', 'captain america', 'hulk', 'thanos', 'spider-man', 'ironman', 'ironman', 'hulk', 'thanos', 'captain america', 'ironman', 'loki', 'ironman', 'captain america', 'black widow', 'ironman', 'captain america', 'hulk', 'captain america', 'ironman', 'black widow', 'captain america', 'captain america', 'ironman', 'doctor strange', 'spider-man', 'captain america', 'spider-man', 'thanos', 'hulk', 'captain america', 'captain america', 'spider-man', 'loki', 'captain america', 'captain america', 'captain america', 'black widow', 'black widow', 'black widow', 'captain america', 'ironman', 'spider-man', 'loki', 'doctor strange', 'captain america', 'captain america', 'loki', 'ironman', 'spider-man', 'captain america', 'black widow', 'ironman', 'captain america', 'spider-man', 'ironman', 'hulk', 'thanos', 'ironman', 'black widow', 'thanos', 'black widow', 'hulk', 'thanos', 'doctor strange', 'ironman', 'captain america', 'hulk', 'captain america', 'hulk', 'ironman', 'black widow', 'ironman', 'ironman', 'hulk', 'loki', 'black widow', 'captain america', 'thanos', 'black widow', 'hulk', 'hulk', 'ironman', 'black widow', 'hulk', 'thanos', 'doctor strange', 'black widow', 'captain america', 'hulk', 'ironman', 'thanos', 'black widow', 'hulk', 'ironman', 'black widow', 'ironman', 'ironman', 'black widow', 'black widow', 'hulk', 'black widow', 'black widow', 'captain america', 'hulk', 'hulk', 'black widow', 'black widow', 'ironman', 'ironman', 'hulk', 'thanos', 'hulk', 'captain america', 'ironman', 'ironman', 'ironman', 'loki', 'captain america', 'ironman', 'ironman', 'ironman', 'ironman', 'black widow', 'ironman', 'ironman', 'black widow', 'captain america', 'hulk', 'spider-man', 'thanos', 'captain america', 'black widow', 'ironman', 'black widow', 'captain america', 'ironman', 'ironman', 'loki', 'ironman', 'black widow', 'hulk', 'captain america', 'doctor strange', 'captain america', 'ironman', 'ironman', 'captain america', 'black widow', 'captain america', 'ironman', 'hulk', 'ironman', 'ironman', 'ironman', 'loki', 'ironman', 'ironman', 'ironman', 'ironman', 'loki', 'ironman', 'hulk', 'ironman', 'captain america', 'ironman', 'ironman', 'ironman', 'captain america', 'ironman', 'black widow', 'spider-man', 'ironman', 'hulk', 'thanos', 'captain america', 'captain america', 'captain america', 'spider-man', 'ironman', 'captain america', 'black widow', 'loki', 'captain america', 'black widow', 'thanos', 'ironman', 'black widow', 'loki', 'ironman', 'doctor strange', 'hulk', 'spider-man', 'black widow', 'thanos', 'black widow', 'black widow', 'black widow', 'black widow', 'hulk', 'hulk', 'black widow', 'doctor strange', 'ironman', 'ironman', 'ironman', 'spider-man', 'doctor strange', 'doctor strange', 'loki', 'ironman', 'captain america', 'loki', 'ironman', 'hulk', 'ironman', 'captain america', 'hulk', 'spider-man', 'ironman', 'spider-man', 'hulk', 'loki', 'spider-man', 'spider-man', 'spider-man', 'ironman', 'captain america', 'spider-man', 'spider-man', 'ironman', 'black widow', 'captain america', 'black widow', 'black widow', 'spider-man', 'hulk', 'doctor strange', 'spider-man', 'loki', 'captain america', 'spider-man', 'spider-man', 'captain america', 'captain america', 'thanos', 'captain america', 'black widow', 'black widow', 'hulk', 'spider-man', 'captain america', 'thanos', 'thanos', 'black widow', 'spider-man', 'black widow', 'black widow', 'captain america', 'ironman', 'doctor strange', 'hulk', 'ironman', 'captain america', 'captain america', 'spider-man', 'hulk', 'spider-man', 'loki', 'loki', 'captain america', 'ironman', 'ironman', 'black widow', 'ironman', 'black widow', 'hulk', 'ironman', 'captain america', 'spider-man', 'spider-man', 'thanos', 'ironman', 'captain america', 'captain america', 'ironman', 'ironman', 'captain america', 'captain america', 'ironman', 'doctor strange', 'ironman', 'thanos', 'ironman', 'black widow', 'thanos', 'ironman', 'ironman', 'ironman', 'loki', 'ironman', 'thanos', 'black widow', 'thanos', 'ironman', 'black widow', 'thanos', 'captain america', 'ironman', 'hulk', 'black widow', 'hulk', 'black widow', 'hulk', 'captain america', 'thanos', 'captain america', 'black widow', 'captain america', 'doctor strange', 'black widow', 'ironman', 'ironman', 'captain america', 'ironman', 'doctor strange', 'ironman', 'hulk', 'black widow', 'doctor strange', 'captain america', 'ironman', 'ironman', 'hulk', 'captain america', 'black widow']\n"
     ]
    }
   ],
   "source": [
    "# Perform Tf-Idf vectorization\n",
    "nbr_occurences = np.sum( (test_features > 0) * 1, axis = 0)\n",
    "idf = np.array(np.log((1.0*len(image_paths)+1) / (1.0*nbr_occurences + 1)), 'float32')\n",
    "\n",
    "# Scale the features\n",
    "#Standardize features by removing the mean and scaling to unit variance\n",
    "#Scaler (stdSlr comes from the pickled file we imported)\n",
    "test_features = stdSlr.transform(test_features)\n",
    "\n",
    "#######Until here most of the above code is similar to Train except for kmeans clustering####\n",
    "true_class = []\n",
    "predictions=[]\n",
    "#Report true class names so they can be compared with predicted classes\n",
    "# for i in image_classes:\n",
    "#     if '.DS_Store' not in classes_names[i]:\n",
    "#         true_class.append(classes_names[i])\n",
    "# for i in clf.predict(test_features):\n",
    "#     if '.DS_Store' not in classes_names[i]:\n",
    "#         predictions.append(classes_names[i])   \n",
    "\n",
    "true_class =  [classes_names[i] for i in image_classes]\n",
    "# Perform the predictions and report predicted class names. \n",
    "predictions =  [classes_names[i] for i in clf.predict(test_features)]\n",
    "\n",
    "\n",
    "#Print the true class and Predictions \n",
    "print (\"true_class =\"  + str(true_class))\n",
    "print (\"prediction =\"  + str(predictions))\n",
    "\n",
    "###############################################\n",
    "#To make it easy to understand the accuracy let us print the confusion matrix"
   ]
  },
  {
   "cell_type": "code",
   "execution_count": 84,
   "id": "bef7dfad",
   "metadata": {},
   "outputs": [],
   "source": [
    "meow = np.array(true_class)\n",
    "meow2 = np.array(predictions)"
   ]
  },
  {
   "cell_type": "code",
   "execution_count": 85,
   "id": "6370bbe8",
   "metadata": {},
   "outputs": [
    {
     "name": "stdout",
     "output_type": "stream",
     "text": [
      "['black widow' 'captain america' 'doctor strange' 'hulk' 'ironman' 'loki'\n",
      " 'spider-man' 'thanos']\n"
     ]
    }
   ],
   "source": [
    "print(np.unique(meow2))"
   ]
  },
  {
   "cell_type": "code",
   "execution_count": 86,
   "id": "a8fae53a",
   "metadata": {},
   "outputs": [
    {
     "name": "stdout",
     "output_type": "stream",
     "text": [
      "accuracy =  0.20842572062084258\n",
      "[[10 10  3  5 18  3  5  1]\n",
      " [ 9 13  1  8 18  3  3  2]\n",
      " [ 6 19  2  5 12  5  7  5]\n",
      " [15  6  2 14 12  1  0  6]\n",
      " [ 6 10  1  4 29  4  1  1]\n",
      " [10  7  4  7 11  5  7  3]\n",
      " [10 12  2  5  8  3 14  3]\n",
      " [ 9 11  4  5 18  1  0  7]]\n"
     ]
    },
    {
     "data": {
      "image/png": "[encoded data removed]",
      "text/plain": [
       "<Figure size 432x288 with 1 Axes>"
      ]
     },
     "metadata": {
      "needs_background": "light"
     },
     "output_type": "display_data"
    },
    {
     "data": {
      "image/png": "[encoded data removed]",
      "text/plain": [
       "<Figure size 576x576 with 1 Axes>"
      ]
     },
     "metadata": {
      "needs_background": "light"
     },
     "output_type": "display_data"
    },
    {
     "name": "stdout",
     "output_type": "stream",
     "text": [
      "Classification Report:\n",
      "----------------------\n",
      "                  precision    recall  f1-score   support\n",
      "\n",
      "    black widow       0.13      0.18      0.15        55\n",
      "captain america       0.15      0.23      0.18        57\n",
      " doctor strange       0.11      0.03      0.05        61\n",
      "           hulk       0.26      0.25      0.26        56\n",
      "        ironman       0.23      0.52      0.32        56\n",
      "           loki       0.20      0.09      0.13        54\n",
      "     spider-man       0.38      0.25      0.30        57\n",
      "         thanos       0.25      0.13      0.17        55\n",
      "\n",
      "       accuracy                           0.21       451\n",
      "      macro avg       0.21      0.21      0.19       451\n",
      "   weighted avg       0.21      0.21      0.19       451\n",
      "\n"
     ]
    }
   ],
   "source": [
    "# def showconfusionmatrix(cm):\n",
    "#     pl.matshow(cm)\n",
    "#     pl.title('Confusion matrix')\n",
    "#     pl.colorbar()\n",
    "#     pl.values()\n",
    "#     pl.show()\n",
    "\n",
    "\n",
    "accuracy = accuracy_score(true_class, predictions)\n",
    "print (\"accuracy = \", accuracy)\n",
    "cm = confusion_matrix(true_class, predictions)\n",
    "print (cm)\n",
    "\n",
    "# showconfusionmatrix(cm)\n",
    "\n",
    "################# sreeni ###########################\n",
    "\"\"\"\n",
    "#For classification of unknown files we can print the predictions\n",
    "#Print the Predictions \n",
    "print (\"Image =\", image_paths)\n",
    "print (\"prediction =\"  + str(predictions))\n",
    "#np.transpose to save data into columns, otherwise saving as rows\n",
    "np.savetxt ('mydata.csv', np.transpose([image_paths, predictions]),fmt='%s', delimiter=',', newline='\\n')\n",
    "\"\"\"\n",
    "cf_matrix = confusion_matrix(meow, meow2)\n",
    "# print(cf_matrix)\n",
    "from sklearn.metrics import confusion_matrix, classification_report\n",
    "import seaborn as sns\n",
    "import matplotlib.pyplot as plt\n",
    "sns.heatmap(cf_matrix, annot=True, fmt='g', vmin=0, cbar=False)\n",
    "\n",
    "# results = model.evaluate(test_images, verbose=0)\n",
    "# predictions = np.argmax(model.predict(test_images), axis=1)\n",
    "\n",
    "class_names = list(np.unique(meow))\n",
    "\n",
    "# cm = confusion_matrix(meow, meow2, labels=np.arange(8))\n",
    "clr = classification_report(meow, meow2, labels=list(np.unique(meow)), target_names=class_names)\n",
    "# \n",
    "# print(\"Test Accuracy: {:.2f}%\".format(results[1] * 100))\n",
    "\n",
    "plt.figure(figsize=(8, 8))\n",
    "sns.heatmap(cm, annot=True, fmt='g', vmin=0,  cbar=False)\n",
    "plt.xticks(ticks=np.arange(8) + 0.5, labels=class_names, rotation=90)\n",
    "plt.yticks(ticks=np.arange(8) + 0.5, labels=class_names, rotation=0)\n",
    "plt.xlabel(\"Predicted\")\n",
    "plt.ylabel(\"Actual\")\n",
    "plt.title(\"Confusion Matrix\")\n",
    "plt.show()\n",
    "\n",
    "print(\"Classification Report:\\n----------------------\\n\", clr)"
   ]
  },
  {
   "cell_type": "code",
   "execution_count": null,
   "id": "1cea8c39",
   "metadata": {},
   "outputs": [],
   "source": []
  }
 ],
 "metadata": {
  "kernelspec": {
   "display_name": "Python 3.9.10 ('MLAI': venv)",
   "language": "python",
   "name": "python3"
  },
  "language_info": {
   "codemirror_mode": {
    "name": "ipython",
    "version": 3
   },
   "file_extension": ".py",
   "mimetype": "text/x-python",
   "name": "python",
   "nbconvert_exporter": "python",
   "pygments_lexer": "ipython3",
   "version": "3.9.10"
  },
  "vscode": {
   "interpreter": {
    "hash": "d757fe51be83d5a0a767d0a05678b47a956fdd4dec642ba853a1fec0485581cd"
   }
  }
 },
 "nbformat": 4,
 "nbformat_minor": 5
}
